{
 "cells": [
  {
   "cell_type": "markdown",
   "metadata": {},
   "source": [
    "# Color Detection and Differentiation"
   ]
  },
  {
   "cell_type": "markdown",
   "metadata": {},
   "source": [
    "### Importing Libraries"
   ]
  },
  {
   "cell_type": "code",
   "execution_count": 34,
   "metadata": {},
   "outputs": [],
   "source": [
    "from collections import Counter \n",
    "import pandas as pd\n",
    "import numpy as np\n",
    "import matplotlib.pyplot as plt \n",
    "from sklearn.cluster import KMeans\n",
    "from matplotlib import colors\n",
    "import cv2"
   ]
  },
  {
   "cell_type": "markdown",
   "metadata": {},
   "source": [
    "### Converting RGB to HEX "
   ]
  },
  {
   "cell_type": "code",
   "execution_count": 22,
   "metadata": {},
   "outputs": [],
   "source": [
    "def rgb_to_hex(color):\n",
    "    hex_color = \"#\"\n",
    "    for i in color:\n",
    "        i = int(i)\n",
    "        hex_color += (\"{:02x}\".format(i))\n",
    "    return hex_color"
   ]
  },
  {
   "cell_type": "code",
   "execution_count": 23,
   "metadata": {},
   "outputs": [
    {
     "data": {
      "text/plain": [
       "'#ff0000'"
      ]
     },
     "execution_count": 23,
     "metadata": {},
     "output_type": "execute_result"
    }
   ],
   "source": [
    "rgb_to_hex([255, 0, 0])"
   ]
  },
  {
   "cell_type": "markdown",
   "metadata": {},
   "source": [
    "### Reading and reshaping images"
   ]
  },
  {
   "cell_type": "code",
   "execution_count": 37,
   "metadata": {},
   "outputs": [],
   "source": [
    "img_1 = \"img/bore.jpeg\"\n",
    "img_2 = \"img/aesthetic.png\"\n",
    "raw_img = cv2.imread(img_1)\n",
    "raw_img = cv2.cvtColor(raw_img, cv2.COLOR_BGR2RGB)"
   ]
  },
  {
   "cell_type": "code",
   "execution_count": 38,
   "metadata": {},
   "outputs": [
    {
     "data": {
      "text/plain": [
       "(600, 900, 3)"
      ]
     },
     "execution_count": 38,
     "metadata": {},
     "output_type": "execute_result"
    }
   ],
   "source": [
    "img = cv2.resize(raw_img, (900, 600), interpolation=cv2.INTER_AREA)\n",
    "img.shape"
   ]
  },
  {
   "cell_type": "code",
   "execution_count": 39,
   "metadata": {},
   "outputs": [
    {
     "data": {
      "text/plain": [
       "(540000, 3)"
      ]
     },
     "execution_count": 39,
     "metadata": {},
     "output_type": "execute_result"
    }
   ],
   "source": [
    "img = img.reshape(img.shape[0] * img.shape[1], 3)\n",
    "img.shape"
   ]
  },
  {
   "cell_type": "code",
   "execution_count": 40,
   "metadata": {},
   "outputs": [
    {
     "data": {
      "text/plain": [
       "array([[111, 113, 112],\n",
       "       [110, 112, 111],\n",
       "       [112, 114, 113],\n",
       "       ...,\n",
       "       [126,  99,  82],\n",
       "       [125,  98,  81],\n",
       "       [125,  98,  81]], dtype=uint8)"
      ]
     },
     "execution_count": 40,
     "metadata": {},
     "output_type": "execute_result"
    }
   ],
   "source": [
    "img"
   ]
  },
  {
   "cell_type": "markdown",
   "metadata": {},
   "source": [
    "### Kmeans Algorithm from Scratch"
   ]
  },
  {
   "cell_type": "code",
   "execution_count": null,
   "metadata": {},
   "outputs": [],
   "source": [
    "class Kmeans_from_scratch:\n",
    "    def __init__(self, k, max_iter = 300, n_init = 10, random_state=0):\n",
    "        self.k = k\n",
    "        self.max_iter = max_iter\n",
    "        self.n_init = n_init\n",
    "        self.random_state = random_state\n",
    "        self.centroids = None\n",
    "        self.labels = None\n",
    "        \n",
    "    def fit(self, X):\n",
    "        self.centroids = self.init_centroids(X)\n",
    "        self.labels = np.zeros(X.shape[0])\n",
    "        for i in range(self.n_init):\n",
    "            self.labels = self.assign_labels(X)\n",
    "            self.centroids = self.update_centroids(X)\n",
    "\n",
    "        num = 1\n",
    "        while num < self.max_iter:\n",
    "            centroids_old = self.centroids\n",
    "            self.labels = self.assign_labels(X)\n",
    "            self.centroids = self.update_centroids(X)\n",
    "            if np.array_equal(centroids_old, self.centroids):\n",
    "                break\n",
    "            num += 1\n",
    "\n",
    "        return self\n",
    "    \n",
    "    def init_centroids(self, X):\n",
    "        centroids = np.zeros((self.k, X.shape[1]))\n",
    "        for i in range(self.k):\n",
    "            centroids[i] = X[np.random.randint(X.shape[0])]\n",
    "        return centroids\n",
    "    \n",
    "    def assign_labels(self, X):\n",
    "        labels = np.zeros(X.shape[0])\n",
    "        for i in range(X.shape[0]):\n",
    "            distances = np.linalg.norm(X[i] - self.centroids, axis=1)\n",
    "            labels[i] = np.argmin(distances)\n",
    "        return labels\n",
    "    \n",
    "    def update_centroids(self, X):\n",
    "        new_centroids = np.zeros((self.k, X.shape[1]))\n",
    "        for i in range(self.k):\n",
    "            new_centroids[i] = np.mean(X[self.labels == i], axis=0)\n",
    "        return new_centroids"
   ]
  },
  {
   "cell_type": "markdown",
   "metadata": {},
   "source": [
    "### Implementing Kmeans - sklearn"
   ]
  },
  {
   "cell_type": "code",
   "execution_count": 41,
   "metadata": {},
   "outputs": [],
   "source": [
    "clf = KMeans(n_clusters=5)\n",
    "color_label = clf.fit_predict(img)\n",
    "color_label.shape\n",
    "center_colors = clf.cluster_centers_"
   ]
  },
  {
   "cell_type": "code",
   "execution_count": 42,
   "metadata": {},
   "outputs": [
    {
     "data": {
      "text/plain": [
       "array([1, 1, 1, ..., 1, 1, 1])"
      ]
     },
     "execution_count": 42,
     "metadata": {},
     "output_type": "execute_result"
    }
   ],
   "source": [
    "color_label"
   ]
  },
  {
   "cell_type": "code",
   "execution_count": 43,
   "metadata": {},
   "outputs": [
    {
     "data": {
      "text/plain": [
       "array([[197.56990577, 190.73129388, 181.51250411],\n",
       "       [108.70690871,  91.3732474 ,  86.27756186],\n",
       "       [182.11115243,  33.18273028,  57.13260334],\n",
       "       [ 57.65445278,  39.83549457,  40.84025663],\n",
       "       [159.24951492, 142.45782637, 129.48953364]])"
      ]
     },
     "execution_count": 43,
     "metadata": {},
     "output_type": "execute_result"
    }
   ],
   "source": [
    "center_colors"
   ]
  },
  {
   "cell_type": "code",
   "execution_count": 44,
   "metadata": {},
   "outputs": [
    {
     "data": {
      "text/plain": [
       "Counter({1: 61077, 4: 87440, 0: 139744, 3: 95759, 2: 155980})"
      ]
     },
     "execution_count": 44,
     "metadata": {},
     "output_type": "execute_result"
    }
   ],
   "source": [
    "counts = Counter(color_label)\n",
    "counts"
   ]
  },
  {
   "cell_type": "code",
   "execution_count": 45,
   "metadata": {},
   "outputs": [
    {
     "data": {
      "text/plain": [
       "['#9f8e81', '#b62139', '#6c5b56', '#392728', '#c5beb5']"
      ]
     },
     "execution_count": 45,
     "metadata": {},
     "output_type": "execute_result"
    }
   ],
   "source": [
    "ordered_colors = [center_colors[i] for i in counts.keys()]\n",
    "hex_colors = [rgb_to_hex(ordered_colors[i]) for i in counts.keys()]\n",
    "hex_colors "
   ]
  },
  {
   "cell_type": "code",
   "execution_count": 46,
   "metadata": {},
   "outputs": [
    {
     "data": {
      "image/png": "[encoded data removed]",
      "text/plain": [
       "<Figure size 432x288 with 1 Axes>"
      ]
     },
     "metadata": {},
     "output_type": "display_data"
    }
   ],
   "source": [
    "def show_colors_in_a_pie_chart(hex_colors):\n",
    "    plt.pie(counts.values(), labels=hex_colors, colors=hex_colors)\n",
    "    plt.title(\"Color Distribution\")\n",
    "    plt.show()\n",
    "\n",
    "show_colors_in_a_pie_chart(hex_colors)\n"
   ]
  },
  {
   "cell_type": "code",
   "execution_count": 47,
   "metadata": {},
   "outputs": [
    {
     "name": "stdout",
     "output_type": "stream",
     "text": [
      "The most common color in the image is: #9f8e81\n"
     ]
    }
   ],
   "source": [
    "print(\"The most common color in the image is: {}\".format(hex_colors[0]))"
   ]
  }
 ],
 "metadata": {
  "interpreter": {
   "hash": "a4a32208fe57bd9bd2e8cf471b55207ccd1db41e4a4526642b234c85a6d3d80c"
  },
  "kernelspec": {
   "display_name": "Python 3.10.2 64-bit",
   "language": "python",
   "name": "python3"
  },
  "language_info": {
   "codemirror_mode": {
    "name": "ipython",
    "version": 3
   },
   "file_extension": ".py",
   "mimetype": "text/x-python",
   "name": "python",
   "nbconvert_exporter": "python",
   "pygments_lexer": "ipython3",
   "version": "3.10.2"
  },
  "orig_nbformat": 4
 },
 "nbformat": 4,
 "nbformat_minor": 2
}
